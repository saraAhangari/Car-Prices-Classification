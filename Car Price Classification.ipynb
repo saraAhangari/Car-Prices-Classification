{
  "nbformat": 4,
  "nbformat_minor": 0,
  "metadata": {
    "colab": {
      "provenance": []
    },
    "kernelspec": {
      "name": "python3",
      "display_name": "Python 3"
    },
    "language_info": {
      "name": "python"
    },
    "accelerator": "GPU",
    "gpuClass": "standard"
  },
  "cells": [
    {
      "cell_type": "markdown",
      "source": [
        "# Project 1: **Preprocessing**"
      ],
      "metadata": {
        "id": "k9e4jciEuFfR"
      }
    },
    {
      "cell_type": "markdown",
      "source": [
        "Data preprocessing is a data mining technique used to transform raw data into a useful and efficient format. For some datas that are null or noisy we use this method to fill those tuples with average value, the nearest value or some other solutions we can use. \n",
        "\n",
        "\n",
        "**Steps involved in data preprocessing :**\n",
        "\n",
        "1.   Importing the required Libraries\n",
        "2.   Importing the data set\n",
        "3.   Handling the Missing Data.\n",
        "4.   Encoding Categorical Data.\n",
        "5.   Splitting the data set into test set and training set.\n",
        "6.   Feature Scaling."
      ],
      "metadata": {
        "id": "ypo6tbYYkq6v"
      }
    },
    {
      "cell_type": "code",
      "execution_count": 1,
      "metadata": {
        "id": "rhigK_2lYHDy"
      },
      "outputs": [],
      "source": [
        "import pandas as pd\n",
        "import numpy as np\n",
        "from sklearn.preprocessing import LabelEncoder, StandardScaler"
      ]
    },
    {
      "cell_type": "code",
      "source": [
        "#Connect to google drive \n",
        "from google.colab import drive\n",
        "\n",
        "drive.mount('drive')"
      ],
      "metadata": {
        "id": "bPQRJB5ofJur",
        "colab": {
          "base_uri": "https://localhost:8080/"
        },
        "outputId": "0e043f04-c902-4824-8b6d-8b008d407607"
      },
      "execution_count": 2,
      "outputs": [
        {
          "output_type": "stream",
          "name": "stdout",
          "text": [
            "Drive already mounted at drive; to attempt to forcibly remount, call drive.mount(\"drive\", force_remount=True).\n"
          ]
        }
      ]
    },
    {
      "cell_type": "markdown",
      "source": [
        "After we upload the dataset, we need to know the number of missing data so we use info function to show us some useful information about our dataset. It shows how many columns we have with their names and for ech column how many filled rows we have. "
      ],
      "metadata": {
        "id": "__RNbq0evUFp"
      }
    },
    {
      "cell_type": "code",
      "source": [
        "# Upload the Car_prices_classification.csv file to your google drive\n",
        "dataset_address = 'drive/MyDrive/Car_prices_classification.csv'\n",
        "df = pd.read_csv(dataset_address)\n",
        "df.info()"
      ],
      "metadata": {
        "id": "SKmhderLfLxR",
        "colab": {
          "base_uri": "https://localhost:8080/"
        },
        "outputId": "2845af28-e6e7-4260-b4c5-78d643a08d03"
      },
      "execution_count": 3,
      "outputs": [
        {
          "output_type": "stream",
          "name": "stdout",
          "text": [
            "<class 'pandas.core.frame.DataFrame'>\n",
            "RangeIndex: 117927 entries, 0 to 117926\n",
            "Data columns (total 11 columns):\n",
            " #   Column           Non-Null Count   Dtype \n",
            "---  ------           --------------   ----- \n",
            " 0   Unnamed: 0       117927 non-null  int64 \n",
            " 1   mark             117927 non-null  object\n",
            " 2   model            117927 non-null  object\n",
            " 3   generation_name  87842 non-null   object\n",
            " 4   year             117927 non-null  int64 \n",
            " 5   mileage          117927 non-null  int64 \n",
            " 6   vol_engine       117927 non-null  int64 \n",
            " 7   fuel             117927 non-null  object\n",
            " 8   city             117927 non-null  object\n",
            " 9   province         117927 non-null  object\n",
            " 10  price_class      117927 non-null  int64 \n",
            "dtypes: int64(5), object(6)\n",
            "memory usage: 9.9+ MB\n"
          ]
        }
      ]
    },
    {
      "cell_type": "markdown",
      "source": [
        "**Clean the data:** \n",
        "\n",
        "*Check for missing values, duplicates, and outliers in the data.*\n",
        "\n",
        "As we can see there's column generation_name with so many tuples with missing values so we can drop it cause it's obviosly useless and makes our predictions more possible to be wrong and far from actual result. \n",
        "\n",
        "So we drop some of the columns which won't contribute much to our machine learning model. Next we can drop all rows in the data that have missing values (NaNs). because we don't have any null values we can skip this part. \n",
        "\n",
        "*   axis : It can be assigned 0 or 1, 0 to impute along columns and 1 to impute along rows.\n",
        "\n"
      ],
      "metadata": {
        "id": "07vjOcSRh63a"
      }
    },
    {
      "cell_type": "code",
      "source": [
        "df.isnull().sum() # check for missing values"
      ],
      "metadata": {
        "id": "Nqr9dL7N4tTn",
        "colab": {
          "base_uri": "https://localhost:8080/"
        },
        "outputId": "af49e164-79fb-42f0-ec47-a4521e99ef3d"
      },
      "execution_count": 4,
      "outputs": [
        {
          "output_type": "execute_result",
          "data": {
            "text/plain": [
              "Unnamed: 0             0\n",
              "mark                   0\n",
              "model                  0\n",
              "generation_name    30085\n",
              "year                   0\n",
              "mileage                0\n",
              "vol_engine             0\n",
              "fuel                   0\n",
              "city                   0\n",
              "province               0\n",
              "price_class            0\n",
              "dtype: int64"
            ]
          },
          "metadata": {},
          "execution_count": 4
        }
      ]
    },
    {
      "cell_type": "markdown",
      "source": [
        "we can drop generation_name column because it's not that important ! "
      ],
      "metadata": {
        "id": "P9qSZ4A89qzk"
      }
    },
    {
      "cell_type": "code",
      "source": [
        "del df['generation_name']\n",
        "df.info()"
      ],
      "metadata": {
        "id": "Whi76--a6gnb",
        "colab": {
          "base_uri": "https://localhost:8080/"
        },
        "outputId": "25d1e8ab-d66c-4e3d-c554-2ccead5f975f"
      },
      "execution_count": 5,
      "outputs": [
        {
          "output_type": "stream",
          "name": "stdout",
          "text": [
            "<class 'pandas.core.frame.DataFrame'>\n",
            "RangeIndex: 117927 entries, 0 to 117926\n",
            "Data columns (total 10 columns):\n",
            " #   Column       Non-Null Count   Dtype \n",
            "---  ------       --------------   ----- \n",
            " 0   Unnamed: 0   117927 non-null  int64 \n",
            " 1   mark         117927 non-null  object\n",
            " 2   model        117927 non-null  object\n",
            " 3   year         117927 non-null  int64 \n",
            " 4   mileage      117927 non-null  int64 \n",
            " 5   vol_engine   117927 non-null  int64 \n",
            " 6   fuel         117927 non-null  object\n",
            " 7   city         117927 non-null  object\n",
            " 8   province     117927 non-null  object\n",
            " 9   price_class  117927 non-null  int64 \n",
            "dtypes: int64(5), object(5)\n",
            "memory usage: 9.0+ MB\n"
          ]
        }
      ]
    },
    {
      "cell_type": "markdown",
      "source": [
        "As we can see we have to columns with Object Dtype. Object data types are non-numeric so we have to find a way to encode them to numerical values.\n",
        "We use LabelEncoder from Scikit-Learn to encode the categorical variables."
      ],
      "metadata": {
        "id": "OtSWXlMQzmeA"
      }
    },
    {
      "cell_type": "code",
      "source": [
        "label_encoder = LabelEncoder()\n",
        "df['mark'] = label_encoder.fit_transform(df['mark'])\n",
        "df['model'] = label_encoder.fit_transform(df['model'])\n",
        "df['fuel'] = label_encoder.fit_transform(df['fuel'])\n",
        "df['city'] = label_encoder.fit_transform(df['city'])\n",
        "df['province'] = label_encoder.fit_transform(df['province'])"
      ],
      "metadata": {
        "id": "lzR5SkU20XAW"
      },
      "execution_count": 6,
      "outputs": []
    },
    {
      "cell_type": "markdown",
      "source": [
        "**Scale the data:** \n",
        "\n",
        "\n",
        "We should scale the numerical variables to prevent the model from being influenced by the scale of the data. \n",
        "\n",
        "\n",
        "* **Why didn't we use normalization ?**\n",
        "\n",
        "Normalization and scaling are techniques that are used to standardize the range of values of a feature. Normalization scales each feature to a range between 0 and 1, while scaling scales each feature to have a mean of 0 and a standard deviation of 1. I used standardization to scale the numerical variables year, mileage, and vol_engine using the StandardScaler class from Scikit-Learn. Standardization is a common technique used in machine learning to scale numerical features to a common scale.\n",
        "\n",
        "Normalization is generally used when the features have a uniform distribution and scaling is used when the features have a Gaussian distribution. In the case of the year, mileage, and vol_engine features, they are continuous variables and do not have a uniform distribution. Therefore, scaling using the StandardScaler class is a more appropriate choice."
      ],
      "metadata": {
        "id": "knvAa4pJ6uCQ"
      }
    },
    {
      "cell_type": "code",
      "source": [
        "scaler = StandardScaler()\n",
        "df[['year', 'mileage', 'vol_engine']] = scaler.fit_transform(df[['year', 'mileage', 'vol_engine']])"
      ],
      "metadata": {
        "id": "OZt5BbJc62Wc"
      },
      "execution_count": 7,
      "outputs": []
    },
    {
      "cell_type": "markdown",
      "source": [
        "# Dividing Data Set Into Training Data and Test Data"
      ],
      "metadata": {
        "id": "ke1iRw9r8ouo"
      }
    },
    {
      "cell_type": "markdown",
      "source": [
        "**Split the dataset:** \n",
        "\n",
        "In next step we split the dataset into training and testing sets to evaluate the performance of the model. After preprocessing, we can use the training dataset to fit a machine learning model to predict car prices."
      ],
      "metadata": {
        "id": "VqmGhmgM6--z"
      }
    },
    {
      "cell_type": "code",
      "source": [
        "X = df.drop('price_class', axis=1)\n",
        "y = df['price_class']\n",
        "from sklearn.model_selection import train_test_split\n",
        "X_train, X_test, y_train, y_test = train_test_split(X, y, test_size=0.3, random_state=42)"
      ],
      "metadata": {
        "id": "0w3j9K1s7EYg"
      },
      "execution_count": 8,
      "outputs": []
    },
    {
      "cell_type": "markdown",
      "source": [
        "In general, the choice of the test size can also depend on the problem we are trying to solve, the size of the dataset, and the amount of noise in the data.\n",
        "\n",
        "The reason for choosing a specific percentage to split the dataset into training and testing sets is to ensure that the model is evaluated on data that it hasn't seen during training.\n",
        "\n",
        "I used a test size of 0.3, which means that 30% of the data is used for testing and the remaining 70% is used for training the model. This is to ensure that there is enough data for training the model and enough data for evaluating its performance. In some cases, a larger test size may be needed to ensure that the model's performance is evaluated on a representative sample of the data."
      ],
      "metadata": {
        "id": "hrEQb-UB7Sss"
      }
    },
    {
      "cell_type": "markdown",
      "source": [
        "# Logistic regression with python without using the scikit-learn library"
      ],
      "metadata": {
        "id": "YD5O9bW5-MOJ"
      }
    },
    {
      "cell_type": "code",
      "source": [
        "import matplotlib.pyplot as plt"
      ],
      "metadata": {
        "id": "o3UNOWAs-S2m"
      },
      "execution_count": 9,
      "outputs": []
    },
    {
      "cell_type": "code",
      "source": [
        "# Define the input matrix X and the output vector y\n",
        "X = df.iloc[:, :-1].values\n",
        "y = df.iloc[:, -1].values.reshape(-1, 1)"
      ],
      "metadata": {
        "id": "DxYSr-8-Bpx0"
      },
      "execution_count": 10,
      "outputs": []
    },
    {
      "cell_type": "code",
      "source": [
        "# Standardize the input matrix X\n",
        "X = (X - np.mean(X, axis=0)) / np.std(X, axis=0)"
      ],
      "metadata": {
        "id": "27TbttizCEZ5"
      },
      "execution_count": 11,
      "outputs": []
    },
    {
      "cell_type": "code",
      "source": [
        "# Define the sigmoid function\n",
        "def sigmoid(z):\n",
        "    return 1 / (1 + np.exp(-z))"
      ],
      "metadata": {
        "id": "iiV2mzizCGfz"
      },
      "execution_count": 12,
      "outputs": []
    },
    {
      "cell_type": "code",
      "source": [
        "# Define the cost function and gradient descent algorithm\n",
        "def cost_function(theta, X, y):\n",
        "    m = len(y)\n",
        "    h = sigmoid(np.dot(X, theta))\n",
        "    J = (-1/m) * np.sum(np.dot(y.T, np.log(h)) + np.dot((1 - y).T, np.log(1 - h)))\n",
        "    grad = (1/m) * np.dot(X.T, (h - y))\n",
        "    return J, grad"
      ],
      "metadata": {
        "id": "o0acmuP3CIYH"
      },
      "execution_count": 13,
      "outputs": []
    },
    {
      "cell_type": "code",
      "source": [
        "def gradient_descent(X, y, theta, alpha, num_iters):\n",
        "    J_history = []\n",
        "    for i in range(num_iters):\n",
        "        J, grad = cost_function(theta, X, y)\n",
        "        theta = theta - alpha * grad\n",
        "        J_history.append(J)\n",
        "    return theta, J_history"
      ],
      "metadata": {
        "id": "plLNm9aRCK_K"
      },
      "execution_count": 14,
      "outputs": []
    },
    {
      "cell_type": "code",
      "source": [
        "# Initialize the parameters and hyperparameters\n",
        "theta = np.zeros((X.shape[1], 1))\n",
        "alpha = 0.01\n",
        "num_iters = 1000"
      ],
      "metadata": {
        "id": "S5gK5Hv6CNLJ"
      },
      "execution_count": 15,
      "outputs": []
    },
    {
      "cell_type": "code",
      "source": [
        "# Run the gradient descent algorithm to obtain the optimized parameters\n",
        "theta, J_history = gradient_descent(X, y, theta, alpha, num_iters)"
      ],
      "metadata": {
        "id": "NQl_4nVtCOw_",
        "colab": {
          "base_uri": "https://localhost:8080/"
        },
        "outputId": "979af1f9-fcec-4995-cbd1-60967939a860"
      },
      "execution_count": 16,
      "outputs": [
        {
          "output_type": "stream",
          "name": "stderr",
          "text": [
            "<ipython-input-13-3052fb95927d>:5: RuntimeWarning: divide by zero encountered in log\n",
            "  J = (-1/m) * np.sum(np.dot(y.T, np.log(h)) + np.dot((1 - y).T, np.log(1 - h)))\n"
          ]
        }
      ]
    },
    {
      "cell_type": "code",
      "source": [
        "# Make predictions using the optimized parameters\n",
        "predictions = np.round(sigmoid(np.dot(X, theta)))"
      ],
      "metadata": {
        "id": "UN8j842HKCqw"
      },
      "execution_count": 17,
      "outputs": []
    },
    {
      "cell_type": "code",
      "source": [
        "# Evaluate the accuracy of the model\n",
        "accuracy = np.mean(predictions == y) * 100\n",
        "print(\"Accuracy:\", accuracy)"
      ],
      "metadata": {
        "colab": {
          "base_uri": "https://localhost:8080/"
        },
        "id": "vddSQaBSKEB2",
        "outputId": "75e8dd65-0afd-454c-9431-5ff46d2bb625"
      },
      "execution_count": 18,
      "outputs": [
        {
          "output_type": "stream",
          "name": "stdout",
          "text": [
            "Accuracy: 0.11617356500207757\n"
          ]
        }
      ]
    },
    {
      "cell_type": "markdown",
      "source": [
        "# Logistic regression with python using the scikit-learn library"
      ],
      "metadata": {
        "id": "i6jdtXdgKOL2"
      }
    },
    {
      "cell_type": "code",
      "source": [
        "from sklearn.linear_model import LogisticRegression\n",
        "from sklearn.model_selection import train_test_split"
      ],
      "metadata": {
        "id": "veYbkuFdKT8J"
      },
      "execution_count": 19,
      "outputs": []
    },
    {
      "cell_type": "code",
      "source": [
        "# Define input and output variables\n",
        "X = df.iloc[:, 0:7]\n",
        "y = df.iloc[:, 7]"
      ],
      "metadata": {
        "id": "yrqCbfUWKYIi"
      },
      "execution_count": 20,
      "outputs": []
    },
    {
      "cell_type": "code",
      "source": [
        "# Define logistic regression model\n",
        "log_reg = LogisticRegression()\n",
        "\n",
        "# Train the model\n",
        "log_reg.fit(X_train, y_train)\n",
        "\n",
        "# Make predictions on test data\n",
        "y_pred = log_reg.predict(X_test)\n",
        "\n",
        "# Evaluate the model\n",
        "accuracy = log_reg.score(X_test, y_test)\n",
        "print(\"Accuracy:\", accuracy)"
      ],
      "metadata": {
        "colab": {
          "base_uri": "https://localhost:8080/"
        },
        "id": "ARwah_rBKeeY",
        "outputId": "45f091ed-5ae8-4c6f-ad24-e73495e27bb7"
      },
      "execution_count": 21,
      "outputs": [
        {
          "output_type": "stream",
          "name": "stdout",
          "text": [
            "Accuracy: 0.23499816275191499\n"
          ]
        }
      ]
    },
    {
      "cell_type": "markdown",
      "source": [
        "# Plot the decrease rate of error"
      ],
      "metadata": {
        "id": "f_O0GfJeOlel"
      }
    },
    {
      "cell_type": "code",
      "source": [
        "# Extract the features and labels\n",
        "X = df.iloc[:, :-1].values\n",
        "y = df.iloc[:, -1].values\n",
        "\n",
        "# Normalize the features\n",
        "X = (X - np.mean(X, axis=0)) / np.std(X, axis=0)\n",
        "\n",
        "# Add a column of ones to represent the bias term\n",
        "X = np.hstack((np.ones((X.shape[0], 1)), X))\n",
        "\n",
        "\n",
        "# Define the cost function\n",
        "def cost_function(X, y, theta):\n",
        "    m = X.shape[0]\n",
        "    h = sigmoid(np.dot(X, theta))\n",
        "    J = (-1/m) * (np.dot(y.T, np.log(h)) + np.dot((1-y).T, np.log(1-h)))\n",
        "    return J\n",
        "\n",
        "# Define the gradient descent function to update the weights\n",
        "def gradient_descent(X, y, theta, alpha, num_iters):\n",
        "    m = X.shape[0]\n",
        "    J_history = np.zeros(num_iters)\n",
        "    for i in range(num_iters):\n",
        "        h = sigmoid(np.dot(X, theta))\n",
        "        theta = theta - (alpha/m) * np.dot(X.T, (h-y))\n",
        "        J_history[i] = cost_function(X, y, theta)\n",
        "    return theta, J_history\n",
        "\n",
        "# Initialize the weights randomly\n",
        "theta = np.random.rand(X.shape[1])\n",
        "\n",
        "# Set the learning rate and number of iterations\n",
        "alpha = 0.01\n",
        "num_iters = 1000\n",
        "\n",
        "# Train the logistic regression model\n",
        "theta, J_history = gradient_descent(X, y, theta, alpha, num_iters)\n",
        "\n",
        "# Calculate the error rate for each iteration\n",
        "error_rate = []\n",
        "for i in range(num_iters):\n",
        "    y_pred = sigmoid(np.dot(X, theta)) >= 0.5\n",
        "    error_rate.append(1 - np.mean(y_pred == y))\n",
        "\n",
        "# Plot the decrease rate of error over the iterations\n",
        "plt.plot(range(num_iters), error_rate)\n",
        "plt.xlabel('Iterations')\n",
        "plt.ylabel('Error Rate')\n",
        "plt.show()"
      ],
      "metadata": {
        "colab": {
          "base_uri": "https://localhost:8080/",
          "height": 315
        },
        "id": "NLEABMhNMyRu",
        "outputId": "10de2057-8482-4435-b659-f537bbc8b0c1"
      },
      "execution_count": 22,
      "outputs": [
        {
          "output_type": "stream",
          "name": "stderr",
          "text": [
            "<ipython-input-22-afecd98ef920>:16: RuntimeWarning: divide by zero encountered in log\n",
            "  J = (-1/m) * (np.dot(y.T, np.log(h)) + np.dot((1-y).T, np.log(1-h)))\n"
          ]
        },
        {
          "output_type": "display_data",
          "data": {
            "text/plain": [
              "<Figure size 432x288 with 1 Axes>"
            ],
            "image/png": "[encoded data removed]"
          },
          "metadata": {
            "needs_background": "light"
          }
        }
      ]
    },
    {
      "cell_type": "markdown",
      "source": [
        "# Plot the accuracy rate"
      ],
      "metadata": {
        "id": "Q3TCjlLlOsA6"
      }
    },
    {
      "cell_type": "code",
      "source": [
        "# Calculate the accuracy rate for each iteration\n",
        "accuracy_rate = []\n",
        "for i in range(num_iters):\n",
        "    y_pred = sigmoid(np.dot(X, theta)) >= 0.5\n",
        "    accuracy_rate.append(np.mean(y_pred == y))\n",
        "\n",
        "# Plot the accuracy rate over the iterations\n",
        "plt.plot(range(num_iters), accuracy_rate)\n",
        "plt.xlabel('Iterations')\n",
        "plt.ylabel('Accuracy Rate')\n",
        "plt.show()"
      ],
      "metadata": {
        "colab": {
          "base_uri": "https://localhost:8080/",
          "height": 279
        },
        "id": "31Yg15bPOKI1",
        "outputId": "87e7a31c-4e39-4e06-afc7-3eb52b91a865"
      },
      "execution_count": 23,
      "outputs": [
        {
          "output_type": "display_data",
          "data": {
            "text/plain": [
              "<Figure size 432x288 with 1 Axes>"
            ],
            "image/png": "[encoded data removed]"
          },
          "metadata": {
            "needs_background": "light"
          }
        }
      ]
    },
    {
      "cell_type": "markdown",
      "source": [
        "# Project 2: **Prerceptron**"
      ],
      "metadata": {
        "id": "NsX_YuAIOyBE"
      }
    },
    {
      "cell_type": "markdown",
      "source": [
        "The Perceptron algorithm is a type of machine learning algorithm that can learn to make predictions based on input data. It's a simple but powerful way to classify data based on its features and It's called a \"neural network\" because it's loosely inspired by the way that neurons work in the brain. It can be used for a wide variety of applications, from filtering spam emails to recognizing handwritten digits.\n",
        "\n",
        "Here's how it works:\n",
        "\n",
        "* Imagine that we have a bunch of data points that you want to classify into one of two categories (for example, \"spam\" or \"not spam\"). Each data point has a set of features, like the length of an email or the number of times a word appears in a message.\n",
        "\n",
        "* We start with some initial \"weights\" and \"biases\" for each feature. These weights and biases are just numbers that are used to combine the features in a way that gives us a prediction.\n",
        "\n",
        "* For each data point, we calculate a prediction by multiplying each feature by its weight, adding up the results, and adding a bias. If the prediction is greater than some threshold, we classify the data point into one category. If it's less than the threshold, we classify it into the other category.\n",
        "\n",
        "* In next stage, we compare the predicted category to the actual category, and adjust the weights and biases to make the prediction more accurate. The adjustment is made by multiplying the difference between the predicted and actual category by each feature value, and adding the results to the weights and biases.\n",
        "\n",
        "* We repeat this process for all of the data points, making adjustments to the weights and biases as we go. We keep doing this until the predictions are accurate enough (or until we've gone through a certain number of iterations)."
      ],
      "metadata": {
        "id": "X4uKW7bGQmcF"
      }
    },
    {
      "cell_type": "markdown",
      "source": [
        "At first, we load the Iris dataset and extract the features (X) and labels (y). "
      ],
      "metadata": {
        "id": "j3UxQ_rFT-se"
      }
    },
    {
      "cell_type": "code",
      "source": [
        "from sklearn.datasets import load_iris\n",
        "\n",
        "# Load the Iris dataset\n",
        "iris = load_iris()\n",
        "\n",
        "# Extract features and labels\n",
        "X = iris.data\n",
        "y = iris.target"
      ],
      "metadata": {
        "id": "r7NBcmooR80Z"
      },
      "execution_count": 26,
      "outputs": []
    },
    {
      "cell_type": "markdown",
      "source": [
        "Then we define a Perceptron class with predict and train methods. The predict method computes the weighted sum of the input data x and the weights self.weights, and applies the step function as the activation function to return the predicted label. The train method updates the weights and bias based on the prediction error.\n",
        "\n",
        "We create a Perceptron instance with 4 input neurons, to match the 4 features in the Iris dataset. We train the Perceptron on the Iris dataset using 1000 epochs and a learning rate of 0.1. Finally, we test the accuracy of the Perceptron on the Iris dataset by counting the number of correctly predicted labels and dividing by the total number of samples."
      ],
      "metadata": {
        "id": "BUlZLCBXTDwk"
      }
    },
    {
      "cell_type": "code",
      "source": [
        "class Perceptron:\n",
        "    def __init__(self, m):\n",
        "        self.m = m\n",
        "        self.weights = np.zeros(m)\n",
        "        self.bias = 0\n",
        "        \n",
        "    def predict(self, x):\n",
        "        # Compute the weighted sum\n",
        "        z = np.dot(x, self.weights) + self.bias\n",
        "        \n",
        "        # Apply the activation function\n",
        "        return 1 if z > 0 else 0\n",
        "    \n",
        "    def train(self, X, y, epochs, learning_rate):\n",
        "        for epoch in range(epochs):\n",
        "            for x, label in zip(X, y):\n",
        "                # Predict the label using the current weights\n",
        "                y_pred = self.predict(x)\n",
        "                \n",
        "                # Update the weights and bias if the prediction is incorrect\n",
        "                if y_pred != label:\n",
        "                    self.weights += learning_rate * label * x\n",
        "                    self.bias += learning_rate * label\n",
        "                    \n",
        "# Create a Perceptron with 4 input neurons (to match the 4 features in the Iris dataset)\n",
        "p = Perceptron(4)\n",
        "\n",
        "# Train the Perceptron on the Iris dataset\n",
        "p.train(X, y, epochs=1000, learning_rate=0.1)\n",
        "\n",
        "# Test the accuracy of the Perceptron on the Iris dataset\n",
        "correct = 0\n",
        "total = len(X)\n",
        "\n",
        "for x, label in zip(X, y):\n",
        "    if p.predict(x) == label:\n",
        "        correct += 1\n",
        "\n",
        "accuracy = correct / total\n",
        "print(\"Accuracy:\", accuracy)"
      ],
      "metadata": {
        "colab": {
          "base_uri": "https://localhost:8080/"
        },
        "id": "sZj8qT76RVx-",
        "outputId": "6894851d-aa6b-4816-9ced-25fadecf81dd"
      },
      "execution_count": 29,
      "outputs": [
        {
          "output_type": "stream",
          "name": "stdout",
          "text": [
            "Accuracy: 0.3333333333333333\n"
          ]
        }
      ]
    },
    {
      "cell_type": "markdown",
      "source": [
        "# Convert the Iris dataset into a binary classification problem"
      ],
      "metadata": {
        "id": "hIucqmeWTtr_"
      }
    },
    {
      "cell_type": "code",
      "source": [
        "# Remove samples belonging to class 2 (Virginica)\n",
        "X = X[:100]\n",
        "y = y[:100]\n",
        "\n",
        "# Convert labels to binary (Setosa=0, Versicolor=1)\n",
        "y = np.where(y==0, 0, 1)\n",
        "\n",
        "# Shuffle the dataset\n",
        "idx = np.arange(len(X))\n",
        "np.random.shuffle(idx)\n",
        "X = X[idx]\n",
        "y = y[idx]\n",
        "\n",
        "# Split the dataset into training and testing sets\n",
        "split_idx = int(0.8 * len(X))\n",
        "X_train, y_train = X[:split_idx], y[:split_idx]\n",
        "X_test, y_test = X[split_idx:], y[split_idx:]"
      ],
      "metadata": {
        "id": "W8GfoMN0TwRo"
      },
      "execution_count": 30,
      "outputs": []
    },
    {
      "cell_type": "markdown",
      "source": [
        "We remove all samples belonging to the third class (Virginica) by slicing the arrays X and y. We convert the remaining labels (Setosa=0, Versicolor=1) using NumPy's where function.Next, we shuffle the dataset using NumPy's shuffle function and split it into training and testing sets (80% for training and 20% for testing) using NumPy's array slicing.\n",
        "\n",
        "We can now use the modified X_train, y_train, X_test, and y_test arrays to train and test our Perceptron classifier for the binary classification problem."
      ],
      "metadata": {
        "id": "1onW-8wBT3a6"
      }
    },
    {
      "cell_type": "markdown",
      "source": [
        "# Plot of the binary classification problem using only the Sepal length and Sepal width features"
      ],
      "metadata": {
        "id": "wuXDrFWNU1J3"
      }
    },
    {
      "cell_type": "code",
      "source": [
        "# Remove samples belonging to class 2 (Virginica)\n",
        "X = X[:100, :2] # Use only the first two features\n",
        "y = y[:100]\n",
        "y = np.where(y==0, 0, 1)\n",
        "\n",
        "# Shuffle the dataset\n",
        "idx = np.arange(len(X))\n",
        "np.random.shuffle(idx)\n",
        "X = X[idx]\n",
        "y = y[idx]\n",
        "\n",
        "# Plot the binary classification problem\n",
        "plt.scatter(X[y==0, 0], X[y==0, 1], label='Setosa')\n",
        "plt.scatter(X[y==1, 0], X[y==1, 1], label='Versicolor')\n",
        "plt.xlabel('Sepal length (cm)')\n",
        "plt.ylabel('Sepal width (cm)')\n",
        "plt.legend()\n",
        "plt.show()"
      ],
      "metadata": {
        "colab": {
          "base_uri": "https://localhost:8080/",
          "height": 282
        },
        "id": "p56e3QrxU1rY",
        "outputId": "da5fec66-eac5-44e2-95fd-23b1b8f453d8"
      },
      "execution_count": 31,
      "outputs": [
        {
          "output_type": "display_data",
          "data": {
            "text/plain": [
              "<Figure size 432x288 with 1 Axes>"
            ],
            "image/png": "[encoded data removed]"
          },
          "metadata": {
            "needs_background": "light"
          }
        }
      ]
    },
    {
      "cell_type": "code",
      "source": [
        "# Remove samples belonging to class 2 (Virginica)\n",
        "X = X[:100, :2] # Use only the first two features\n",
        "y = y[:100]\n",
        "y = np.where(y==0, 0, 1)\n",
        "\n",
        "# Shuffle the dataset\n",
        "idx = np.arange(len(X))\n",
        "np.random.shuffle(idx)\n",
        "X = X[idx]\n",
        "y = y[idx]\n",
        "\n",
        "# Split the dataset into training and testing sets\n",
        "split_idx = int(0.8 * len(X))\n",
        "X_train, y_train = X[:split_idx], y[:split_idx]\n",
        "X_test, y_test = X[split_idx:], y[split_idx:]\n",
        "\n",
        "class Plot:\n",
        "    def __init__(self):\n",
        "        self.weights = None\n",
        "        self.bias = None\n",
        "\n",
        "    def fit(self, X, y, lr=0.1, epochs=100):\n",
        "        # Initialize weights and bias to zero\n",
        "        self.weights = np.zeros(X.shape[1])\n",
        "        self.bias = 0.0\n",
        "        \n",
        "        for _ in range(epochs):\n",
        "            for xi, yi in zip(X, y):\n",
        "                # Compute the activation function\n",
        "                a = np.dot(xi, self.weights) + self.bias\n",
        "                \n",
        "                # Compute the predicted label\n",
        "                y_hat = np.where(a > 0, 1, 0)\n",
        "                \n",
        "                # Update weights and bias if the predicted label is incorrect\n",
        "                if y_hat != yi:\n",
        "                    self.weights += lr * (yi - y_hat) * xi\n",
        "                    self.bias += lr * (yi - y_hat)\n",
        "\n",
        "    def predict(self, X):\n",
        "        # Compute the activation function\n",
        "        a = np.dot(X, self.weights) + self.bias\n",
        "        \n",
        "        # Compute the predicted labels\n",
        "        y_hat = np.where(a > 0, 1, 0)\n",
        "        \n",
        "        return y_hat\n",
        "\n",
        "\n",
        "# Train the Perceptron on the training set\n",
        "model = Plot()\n",
        "model.fit(X_train, y_train)\n",
        "\n",
        "# Compute the decision boundary (i.e., the line separating the two classes)\n",
        "w1, w2 = model.weights\n",
        "b = model.bias\n",
        "x1 = np.linspace(4, 7, 100)\n",
        "x2 = -(w1/w2) * x1 - (b/w2)\n",
        "\n",
        "# Plot the decision boundary and the weight vector\n",
        "plt.scatter(X_train[y_train==0, 0], X_train[y_train==0, 1], label='Setosa')\n",
        "plt.scatter(X_train[y_train==1, 0], X_train[y_train==1, 1], label='Versicolor')\n",
        "plt.plot(x1, x2, label='Decision boundary')\n",
        "plt.arrow(5.5, 4.5, w1, w2, head_width=0.1, head_length=0.1, fc='k', ec='k', label='Weight vector')\n",
        "plt.xlabel('Sepal length (cm)')\n",
        "plt.ylabel('Sepal width (cm)')\n",
        "plt.legend()\n",
        "plt.show()"
      ],
      "metadata": {
        "colab": {
          "base_uri": "https://localhost:8080/",
          "height": 279
        },
        "id": "POJV4-9SVkf-",
        "outputId": "a5a5687b-6133-4b8d-8ad1-6afcf163292f"
      },
      "execution_count": 35,
      "outputs": [
        {
          "output_type": "display_data",
          "data": {
            "text/plain": [
              "<Figure size 432x288 with 1 Axes>"
            ],
            "image/png": "[encoded data removed]"
          },
          "metadata": {
            "needs_background": "light"
          }
        }
      ]
    },
    {
      "cell_type": "markdown",
      "source": [
        "# Error rate"
      ],
      "metadata": {
        "id": "Gd1KsAPnXLcX"
      }
    },
    {
      "cell_type": "markdown",
      "source": [
        "The code creates a Perceptron_error class and trains it on the binary classification problem with only the Sepal length and width features. The fit method returns the final error percentage and the list of error counts during training. After training the model, the code plots the error rate during training using Matplotlib's plot function. The x-axis represents the number of epochs (i.e., the number of times the entire training set was presented to the model), while the y-axis represents the number of errors made by the model during that epoch."
      ],
      "metadata": {
        "id": "KDdrC6tGXjY7"
      }
    },
    {
      "cell_type": "code",
      "source": [
        "class Perceptron_error:\n",
        "    def __init__(self, num_features):\n",
        "        self.weights = np.zeros(num_features)\n",
        "        self.bias = 0\n",
        "        \n",
        "    def predict(self, x):\n",
        "        z = np.dot(x, self.weights) + self.bias\n",
        "        return np.where(z > 0, 1, 0)\n",
        "    \n",
        "    def fit(self, x, y, num_epochs=100):\n",
        "        errors = []\n",
        "        for epoch in range(num_epochs):\n",
        "            error_count = 0\n",
        "            for xi, yi in zip(x, y):\n",
        "                prediction = self.predict(xi)\n",
        "                update = yi - prediction\n",
        "                self.weights += update * xi\n",
        "                self.bias += update\n",
        "                error_count += int(update != 0)\n",
        "            errors.append(error_count)\n",
        "        \n",
        "        error_percentage = errors[-1] / len(y) * 100\n",
        "        return error_percentage, errors\n",
        "\n",
        "iris = load_iris()\n",
        "X = iris.data[:, :2]  # Select only Sepal length and Sepal width\n",
        "y = (iris.target != 0) * 1  # Convert to binary classification problem\n",
        "\n",
        "# Train the Perceptron model\n",
        "perceptron = Perceptron_error(num_features=2)\n",
        "error_percentage, errors = perceptron.fit(X, y, num_epochs=10)\n",
        "\n",
        "# Plot the error rate during training\n",
        "plt.plot(range(1, len(errors)+1), errors)\n",
        "plt.xlabel('Epoch')\n",
        "plt.ylabel('Number of errors')\n",
        "plt.title('Perceptron Training')\n",
        "plt.show()"
      ],
      "metadata": {
        "colab": {
          "base_uri": "https://localhost:8080/",
          "height": 295
        },
        "id": "5w2zE3EVXOMJ",
        "outputId": "ff8faa54-a45a-4af0-83e9-b6afa97f320d"
      },
      "execution_count": 38,
      "outputs": [
        {
          "output_type": "display_data",
          "data": {
            "text/plain": [
              "<Figure size 432x288 with 1 Axes>"
            ],
            "image/png": "[encoded data removed]"
          },
          "metadata": {
            "needs_background": "light"
          }
        }
      ]
    },
    {
      "cell_type": "code",
      "source": [
        "print(f'Final error percentage: {error_percentage:.2f}%')"
      ],
      "metadata": {
        "colab": {
          "base_uri": "https://localhost:8080/"
        },
        "id": "N5Zrn1qsXeuG",
        "outputId": "b139bb84-ac6a-4553-94b2-bba6486e4023"
      },
      "execution_count": 39,
      "outputs": [
        {
          "output_type": "stream",
          "name": "stdout",
          "text": [
            "Final error percentage: 1.33%\n"
          ]
        }
      ]
    }
  ]
}